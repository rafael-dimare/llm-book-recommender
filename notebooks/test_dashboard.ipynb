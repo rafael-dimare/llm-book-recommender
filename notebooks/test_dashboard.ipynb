{
 "cells": [
  {
   "cell_type": "code",
   "execution_count": 6,
   "id": "dcd2ddb2-2f52-432f-9680-2843cfd37bef",
   "metadata": {},
   "outputs": [],
   "source": [
    "import pandas as pd\n",
    "import numpy as np\n",
    "\n",
    "import os\n",
    "\n",
    "from langchain_community.document_loaders import TextLoader\n",
    "from langchain_text_splitters import CharacterTextSplitter\n",
    "from langchain_huggingface import HuggingFaceEmbeddings\n",
    "from langchain_chroma import Chroma\n",
    "\n",
    "from transformers import pipeline\n",
    "\n",
    "import gradio as gr\n",
    "\n",
    "PERSIST_DIR = '../data/db_books_embeddings'"
   ]
  },
  {
   "cell_type": "code",
   "execution_count": 30,
   "id": "4c8665e7-2c2e-4473-aab1-35516bd9ae64",
   "metadata": {},
   "outputs": [],
   "source": [
    "# Load books database\n",
    "books = pd.read_csv(\"../data/books_for_dashboard.csv\",\n",
    "                    dtype={'isbn13': str, 'isbn': str,})"
   ]
  },
  {
   "cell_type": "code",
   "execution_count": 8,
   "id": "da680fae-62af-4500-82db-3c7c54c8a85e",
   "metadata": {},
   "outputs": [
    {
     "name": "stderr",
     "output_type": "stream",
     "text": [
      "/home/rhernand/.local/lib/python3.9/site-packages/huggingface_hub/file_download.py:945: FutureWarning: `resume_download` is deprecated and will be removed in version 1.0.0. Downloads always resume when possible. If you want to force a new download, use `force_download=True`.\n",
      "  warnings.warn(\n"
     ]
    },
    {
     "name": "stdout",
     "output_type": "stream",
     "text": [
      "Successfully loaded database with 5197 documents from '../data/db_books_embeddings'.\n",
      "Query Result: Returning to his hometown of Bramwell after years of wandering, mercenary Darrick Lang discovers that a dark and horrifying force has ensnared its citizens and now seeks to seize him, in a chilling novel of dark fantasy, based on the popular video game. Original. (A Blizzard Entertainment M-rated electronic game) (Horror)\n"
     ]
    }
   ],
   "source": [
    "# Load vector databse for semantic recommendations\n",
    "embedding_model = HuggingFaceEmbeddings(model_name=\"sentence-transformers/all-MiniLM-L6-v2\")\n",
    "\n",
    "db_books = Chroma(\n",
    "    embedding_function=embedding_model,\n",
    "    persist_directory=PERSIST_DIR\n",
    ")\n",
    "\n",
    "count = db_books._collection.count()\n",
    "print(f\"Successfully loaded database with {count} documents from '{PERSIST_DIR}'.\")\n",
    "\n",
    "# Example query to show it works\n",
    "results = db_books.similarity_search(\"Fantasy\", k=1)\n",
    "print(f\"Query Result: {results[0].page_content}\")"
   ]
  },
  {
   "cell_type": "code",
   "execution_count": 17,
   "id": "6609e85a-70b5-4b8f-b663-31946c22d014",
   "metadata": {},
   "outputs": [],
   "source": [
    "books['large_thumbnail'] = np.where(books['thumbnail'].isna(),\n",
    "                                    \"../data/cover_not_found.png\",\n",
    "                                    books['thumbnail'] + \"&wfife=w800\")"
   ]
  },
  {
   "cell_type": "code",
   "execution_count": 53,
   "id": "e10c82fd-cb1a-405e-844b-474125f9eed7",
   "metadata": {},
   "outputs": [],
   "source": [
    "def retrieve_semantic_recomendations(\n",
    "    query: str,\n",
    "    category: str = None,\n",
    "    tone: str = None,\n",
    "    initial_top_k: int = 50,\n",
    "    final_top_k: int = 16\n",
    ") -> pd.DataFrame:\n",
    "\n",
    "    tone_emotion_dict = dict(\n",
    "        Happy = 'joy',\n",
    "        Surprising = 'surprise',\n",
    "        Angry = 'anger',\n",
    "        Suspensful = 'fear',\n",
    "        Sad = 'sadness'\n",
    "    )\n",
    "    \n",
    "    recommendations = db_books.similarity_search(query, k=initial_top_k)\n",
    "    books_ids = [doc.id for doc in recommendations]\n",
    "    book_recs = books.query(\"isbn13.isin(@books_ids)\").copy()\n",
    "    \n",
    "    if category != \"All\":\n",
    "        book_recs.query(\"simple_categories == @category\", inplace=True)\n",
    "\n",
    "    book_recs.sort_values(tone_emotion_dict.get(tone, 'title_and_subtitle'),\n",
    "                          ascending=False, inplace=True)\n",
    "\n",
    "    return book_recs"
   ]
  },
  {
   "cell_type": "code",
   "execution_count": null,
   "id": "50bffa03-a4d5-4bc3-9a1a-4c0f0209e128",
   "metadata": {},
   "outputs": [],
   "source": [
    "def recommend_books(\n",
    "    query: str,\n",
    "    category: str,\n",
    "    tone: str\n",
    "):\n",
    "    recommendations = retrieve_semantic_recommendations(query, category, tone)\n",
    "    \n",
    "    results = []\n",
    "    for _, row in recommendations.iterrows():"
   ]
  }
 ],
 "metadata": {
  "kernelspec": {
   "display_name": "Python 3 (ipykernel)",
   "language": "python",
   "name": "python3"
  },
  "language_info": {
   "codemirror_mode": {
    "name": "ipython",
    "version": 3
   },
   "file_extension": ".py",
   "mimetype": "text/x-python",
   "name": "python",
   "nbconvert_exporter": "python",
   "pygments_lexer": "ipython3",
   "version": "3.9.17"
  }
 },
 "nbformat": 4,
 "nbformat_minor": 5
}
