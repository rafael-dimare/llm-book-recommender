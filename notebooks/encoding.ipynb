{
 "cells": [
  {
   "cell_type": "code",
   "execution_count": 1,
   "id": "bc3edf81-be00-4841-8625-cada51985a54",
   "metadata": {},
   "outputs": [
    {
     "name": "stderr",
     "output_type": "stream",
     "text": [
      "/home/rhernand/.local/lib/python3.9/site-packages/transformers/utils/generic.py:441: FutureWarning: `torch.utils._pytree._register_pytree_node` is deprecated. Please use `torch.utils._pytree.register_pytree_node` instead.\n",
      "  _torch_pytree._register_pytree_node(\n",
      "2025-10-15 15:51:35.746357: I tensorflow/core/util/port.cc:153] oneDNN custom operations are on. You may see slightly different numerical results due to floating-point round-off errors from different computation orders. To turn them off, set the environment variable `TF_ENABLE_ONEDNN_OPTS=0`.\n",
      "2025-10-15 15:51:35.805632: I tensorflow/core/platform/cpu_feature_guard.cc:210] This TensorFlow binary is optimized to use available CPU instructions in performance-critical operations.\n",
      "To enable the following instructions: AVX2 AVX512F AVX512_VNNI FMA, in other operations, rebuild TensorFlow with the appropriate compiler flags.\n",
      "2025-10-15 15:51:44.376469: I tensorflow/core/util/port.cc:153] oneDNN custom operations are on. You may see slightly different numerical results due to floating-point round-off errors from different computation orders. To turn them off, set the environment variable `TF_ENABLE_ONEDNN_OPTS=0`.\n",
      "/home/rhernand/.local/lib/python3.9/site-packages/transformers/utils/generic.py:309: FutureWarning: `torch.utils._pytree._register_pytree_node` is deprecated. Please use `torch.utils._pytree.register_pytree_node` instead.\n",
      "  _torch_pytree._register_pytree_node(\n"
     ]
    }
   ],
   "source": [
    "import os\n",
    "\n",
    "import pandas as pd\n",
    "import numpy as np\n",
    "\n",
    "from langchain_community.document_loaders import TextLoader\n",
    "from langchain_text_splitters import CharacterTextSplitter\n",
    "from langchain_huggingface import HuggingFaceEmbeddings\n",
    "from langchain_chroma import Chroma\n",
    "\n",
    "from transformers import pipeline\n",
    "\n",
    "from tqdm import tqdm\n",
    "tqdm.pandas()"
   ]
  },
  {
   "cell_type": "code",
   "execution_count": 2,
   "id": "25026075-a89e-448e-9b55-de7726ce71fb",
   "metadata": {},
   "outputs": [],
   "source": [
    "# Ghost logging to avoid splitting warnings\n",
    "\n",
    "import logging\n",
    "\n",
    "logging.getLogger(\"langchain_text_splitters.base\").setLevel(logging.ERROR)\n",
    "old_log_record_factory = logging.getLogRecordFactory()\n",
    "\n",
    "def new_log_record_factory(*args, **kwargs):\n",
    "    record = old_log_record_factory(*args, **kwargs)\n",
    "    if record.getMessage().startswith(\"Created a chunk of size\"):\n",
    "        return None\n",
    "    return record\n",
    "\n",
    "logging.setLogRecordFactory(new_log_record_factory)"
   ]
  },
  {
   "cell_type": "markdown",
   "id": "e6c2e76e-e56d-4056-9c5d-585385bc98ea",
   "metadata": {},
   "source": [
    "# Creating a Embeddings-vector DB"
   ]
  },
  {
   "cell_type": "code",
   "execution_count": 3,
   "id": "71c4b5d3-9233-4cf4-8856-763e24294c12",
   "metadata": {},
   "outputs": [],
   "source": [
    "# Read data table and only write documents content\n",
    "\n",
    "books = pd.read_csv(\"../data/books_cleaned.csv\")\n",
    "books['tagged_description'].to_csv(\"../data/tagged_description.txt\", sep=\"\\n\", index=False, header=False)"
   ]
  },
  {
   "cell_type": "code",
   "execution_count": 4,
   "id": "49f043ef-80a4-4393-85cc-86d4952d5a4a",
   "metadata": {},
   "outputs": [],
   "source": [
    "# Load documents, configure text splitter, and perform splitting\n",
    "\n",
    "raw_documents = TextLoader(\"../data/tagged_description.txt\").load()\n",
    "text_splitter = CharacterTextSplitter(chunk_size=1, chunk_overlap=0, separator=\"\\n\")\n",
    "documents = text_splitter.split_documents(raw_documents)"
   ]
  },
  {
   "cell_type": "code",
   "execution_count": 5,
   "id": "e2b9cae4-87ee-4c17-9951-e66de0013a49",
   "metadata": {
    "scrolled": true
   },
   "outputs": [
    {
     "data": {
      "text/plain": [
       "Document(metadata={'source': '../data/tagged_description.txt'}, page_content='9780002005883: A NOVEL THAT READERS and critics have been eagerly anticipating for over a decade, Gilead is an astonishingly imagined story of remarkable lives. John Ames is a preacher, the son of a preacher and the grandson (both maternal and paternal) of preachers. It’s 1956 in Gilead, Iowa, towards the end of the Reverend Ames’s life, and he is absorbed in recording his family’s story, a legacy for the young son he will never see grow up. Haunted by his grandfather’s presence, John tells of the rift between his grandfather and his father: the elder, an angry visionary who fought for the abolitionist cause, and his son, an ardent pacifist. He is troubled, too, by his prodigal namesake, Jack (John Ames) Boughton, his best friend’s lost son who returns to Gilead searching for forgiveness and redemption. Told in John Ames’s joyous, rambling voice that finds beauty, humour and truth in the smallest of life’s details, Gilead is a song of celebration and acceptance of the best and the worst the world has to offer. At its heart is a tale of the sacred bonds between fathers and sons, pitch-perfect in style and story, set to dazzle critics and readers alike.')"
      ]
     },
     "execution_count": 5,
     "metadata": {},
     "output_type": "execute_result"
    }
   ],
   "source": [
    "documents[0]"
   ]
  },
  {
   "cell_type": "code",
   "execution_count": 6,
   "id": "9e86b97b-671e-459d-b8ad-1f9bad826ec5",
   "metadata": {
    "scrolled": true
   },
   "outputs": [
    {
     "name": "stderr",
     "output_type": "stream",
     "text": [
      "/home/rhernand/.local/lib/python3.9/site-packages/torch/cuda/__init__.py:182: UserWarning: CUDA initialization: The NVIDIA driver on your system is too old (found version 11040). Please update your GPU driver by downloading and installing a new version from the URL: http://www.nvidia.com/Download/index.aspx Alternatively, go to: https://pytorch.org to install a PyTorch version that has been compiled with your version of the CUDA driver. (Triggered internally at /pytorch/c10/cuda/CUDAFunctions.cpp:109.)\n",
      "  return torch._C._cuda_getDeviceCount() > 0\n",
      "/home/rhernand/.local/lib/python3.9/site-packages/huggingface_hub/file_download.py:945: FutureWarning: `resume_download` is deprecated and will be removed in version 1.0.0. Downloads always resume when possible. If you want to force a new download, use `force_download=True`.\n",
      "  warnings.warn(\n",
      "/home/rhernand/.local/lib/python3.9/site-packages/transformers/utils/generic.py:309: FutureWarning: `torch.utils._pytree._register_pytree_node` is deprecated. Please use `torch.utils._pytree.register_pytree_node` instead.\n",
      "  _torch_pytree._register_pytree_node(\n"
     ]
    }
   ],
   "source": [
    "# Initialize embeddings model\n",
    "embedding_model = HuggingFaceEmbeddings(model_name=\"sentence-transformers/all-MiniLM-L6-v2\")"
   ]
  },
  {
   "cell_type": "code",
   "execution_count": 7,
   "id": "79ec7560-ebd6-43bf-9fab-04020c020b0a",
   "metadata": {},
   "outputs": [
    {
     "name": "stderr",
     "output_type": "stream",
     "text": [
      "Embedding batches: 100%|█████████████████████████████████████████████████████████| 325/325 [01:26<00:00,  3.75it/s]\n"
     ]
    }
   ],
   "source": [
    "# Extract texts\n",
    "texts = [doc.page_content.strip(\"\\\"\") for doc in documents]\n",
    "\n",
    "#Process embeddings in batches\n",
    "batch_size = 16\n",
    "embeddings = []\n",
    "\n",
    "for i in tqdm(range(0, len(texts), batch_size), desc=\"Embedding batches\"):\n",
    "    batch = texts[i:i + batch_size]\n",
    "    batch_embeddings = embedding_model.embed_documents(batch)\n",
    "    embeddings.extend(batch_embeddings)"
   ]
  },
  {
   "cell_type": "code",
   "execution_count": 8,
   "id": "a5a3bdef-af76-4e86-91cf-c992d189008e",
   "metadata": {
    "scrolled": true
   },
   "outputs": [
    {
     "name": "stderr",
     "output_type": "stream",
     "text": [
      "huggingface/tokenizers: The current process just got forked, after parallelism has already been used. Disabling parallelism to avoid deadlocks...\n",
      "To disable this warning, you can either:\n",
      "\t- Avoid using `tokenizers` before the fork if possible\n",
      "\t- Explicitly set the environment variable TOKENIZERS_PARALLELISM=(true | false)\n",
      "huggingface/tokenizers: The current process just got forked, after parallelism has already been used. Disabling parallelism to avoid deadlocks...\n",
      "To disable this warning, you can either:\n",
      "\t- Avoid using `tokenizers` before the fork if possible\n",
      "\t- Explicitly set the environment variable TOKENIZERS_PARALLELISM=(true | false)\n"
     ]
    },
    {
     "name": "stdout",
     "output_type": "stream",
     "text": [
      "Successfully created and saved 5197 documents to '../data/db_books_embeddings'\n",
      "Current document count: 5197\n"
     ]
    }
   ],
   "source": [
    "PERSIST_DIR = '../data/db_books_embeddings'\n",
    "\n",
    "db_books = Chroma(\n",
    "    embedding_function=embedding_model, # Used for queries\n",
    "    persist_directory = PERSIST_DIR     # Optional: set a folder if you want it saved\n",
    ")\n",
    "\n",
    "# Add the data manually\n",
    "db_books._collection.add(\n",
    "    ids=[text[:13] for text in texts],\n",
    "    embeddings=embeddings,\n",
    "    documents=[text[15:] for text in texts],\n",
    "    metadatas=[doc.metadata for doc in documents]\n",
    ")\n",
    "\n",
    "print(f\"Successfully created and saved {len(embeddings)} documents to '{PERSIST_DIR}'\")\n",
    "print(f\"Current document count: {db_books._collection.count()}\")"
   ]
  },
  {
   "cell_type": "code",
   "execution_count": 9,
   "id": "ef3aad13-e0e8-49aa-b17b-f17f33cc2551",
   "metadata": {},
   "outputs": [
    {
     "name": "stdout",
     "output_type": "stream",
     "text": [
      "Successfully loaded database with 5197 documents from '../data/db_books_embeddings'.\n",
      "Query Result: \"\"A boon for classicists and general readers alike. For the reader who comes to tragedy for the first time, these translations are eminently 'accessible,' and consummately American in tone and feeling. For the classicist, these versions constitute an ambitious reinterpretation of traditional masterpieces; after 2,500 years, the poetry of Euripides and Aeschylus has found a new voice—in fact, ten of them.\"\"—The Boston Book Review\n"
     ]
    }
   ],
   "source": [
    "# Loading test\n",
    "\n",
    "db_books_loaded = Chroma(\n",
    "    embedding_function=embedding_model,\n",
    "    persist_directory=PERSIST_DIR\n",
    ")\n",
    "\n",
    "count = db_books_loaded._collection.count()\n",
    "print(f\"Successfully loaded database with {count} documents from '{PERSIST_DIR}'.\")\n",
    "\n",
    "# Example query to show it works\n",
    "results = db_books_loaded.similarity_search(\"Classic literature\", k=1)\n",
    "print(f\"Query Result: {results[0].page_content}\")"
   ]
  },
  {
   "cell_type": "code",
   "execution_count": 10,
   "id": "ad871777-e136-4b3b-a8cd-c47d466f39b7",
   "metadata": {},
   "outputs": [
    {
     "data": {
      "text/plain": [
       "[Document(id='9780786808069', metadata={'source': 'data/tagged_description.txt'}, page_content='Children will discover the exciting world of their own backyard in this introduction to familiar animals from cats and dogs to bugs and frogs. The combination of photographs, illustrations, and fun facts make this an accessible and delightful learning experience.'),\n",
       " Document(id='9780786808380', metadata={'source': 'data/tagged_description.txt'}, page_content=\"Introduce your babies to birds, cats, dogs, and babies through fine art, illustration, and photographs. These books are a rare opportunity to expose little ones to a range of images on a single subject, from simple child's drawings and abstract art to playful photos. A brief text accompanies each image, introducing the baby to some basic -- and sometimes playful -- information about the subjects.\"),\n",
       " Document(id='9780786808397', metadata={'source': 'data/tagged_description.txt'}, page_content=\"Introduce your baby to birds, cats, dogs, and babies through fine art, illustration, and photographs. These books are a rare opportunity to exopse little ones to a range of images on a single subject, from simple child's drawings and abstract art to playful photos. A brief text accompanies each image, introducing baby to some basic -- and sometimes playful -- information about the subjects.\"),\n",
       " Document(id='9780060959036', metadata={'source': 'data/tagged_description.txt'}, page_content=\"Barbara Kingsolver's fifth novel is a hymn to wildness that celebrates the prodigal spirit of human nature, and of nature itself. It weaves together three stories of human love within a larger tapestry of lives amid the mountains and farms of southern Appalachia. Over the course of one humid summer, this novel's intriguing protagonists face disparate predicaments but find connections to one another and to the flora and fauna with which they necessarily share a place.\"),\n",
       " Document(id='9780786808373', metadata={'source': 'data/tagged_description.txt'}, page_content=\"Introducing your baby to birds, cats, dogs, and babies through fine art, illsutration and photographs. These books are a rare opportunity to expose little ones to a range of images on a single subject, from simple child's drawings and abstract art to playful photos. A brief text accompanies each image, introducing baby to some basic -- and sometimes playful -- information on the subjects.\")]"
      ]
     },
     "execution_count": 10,
     "metadata": {},
     "output_type": "execute_result"
    }
   ],
   "source": [
    "query = \"A book to teach children about nature\"\n",
    "docs = db_books.similarity_search(query, k=5)\n",
    "docs"
   ]
  },
  {
   "cell_type": "code",
   "execution_count": 11,
   "id": "46b5d577-13ce-49fd-829e-1b49538d72bc",
   "metadata": {},
   "outputs": [
    {
     "name": "stdout",
     "output_type": "stream",
     "text": [
      "CPU times: user 440 ms, sys: 35.3 ms, total: 475 ms\n",
      "Wall time: 30.6 ms\n"
     ]
    },
    {
     "data": {
      "text/html": [
       "<div>\n",
       "<style scoped>\n",
       "    .dataframe tbody tr th:only-of-type {\n",
       "        vertical-align: middle;\n",
       "    }\n",
       "\n",
       "    .dataframe tbody tr th {\n",
       "        vertical-align: top;\n",
       "    }\n",
       "\n",
       "    .dataframe thead th {\n",
       "        text-align: right;\n",
       "    }\n",
       "</style>\n",
       "<table border=\"1\" class=\"dataframe\">\n",
       "  <thead>\n",
       "    <tr style=\"text-align: right;\">\n",
       "      <th></th>\n",
       "      <th>isbn13</th>\n",
       "      <th>isbn10</th>\n",
       "      <th>title</th>\n",
       "      <th>authors</th>\n",
       "      <th>categories</th>\n",
       "      <th>thumbnail</th>\n",
       "      <th>description</th>\n",
       "      <th>published_year</th>\n",
       "      <th>average_rating</th>\n",
       "      <th>num_pages</th>\n",
       "      <th>ratings_count</th>\n",
       "      <th>title_and_subtitle</th>\n",
       "      <th>tagged_description</th>\n",
       "    </tr>\n",
       "  </thead>\n",
       "  <tbody>\n",
       "    <tr>\n",
       "      <th>324</th>\n",
       "      <td>9780060959036</td>\n",
       "      <td>0060959037</td>\n",
       "      <td>Prodigal Summer</td>\n",
       "      <td>Barbara Kingsolver</td>\n",
       "      <td>Fiction</td>\n",
       "      <td>http://books.google.com/books/content?id=06IwG...</td>\n",
       "      <td>Barbara Kingsolver's fifth novel is a hymn to ...</td>\n",
       "      <td>2001.0</td>\n",
       "      <td>4.00</td>\n",
       "      <td>444.0</td>\n",
       "      <td>85440.0</td>\n",
       "      <td>Prodigal Summer: A Novel</td>\n",
       "      <td>9780060959036: Barbara Kingsolver's fifth nove...</td>\n",
       "    </tr>\n",
       "    <tr>\n",
       "      <th>1642</th>\n",
       "      <td>9780374522599</td>\n",
       "      <td>0374522596</td>\n",
       "      <td>The Control of Nature</td>\n",
       "      <td>John McPhee</td>\n",
       "      <td>Nature</td>\n",
       "      <td>http://books.google.com/books/content?id=p1qKQ...</td>\n",
       "      <td>The Control of Nature is John McPhee's bestsel...</td>\n",
       "      <td>1990.0</td>\n",
       "      <td>4.24</td>\n",
       "      <td>288.0</td>\n",
       "      <td>3365.0</td>\n",
       "      <td>The Control of Nature</td>\n",
       "      <td>9780374522599: The Control of Nature is John M...</td>\n",
       "    </tr>\n",
       "    <tr>\n",
       "      <th>3747</th>\n",
       "      <td>9780786808069</td>\n",
       "      <td>0786808063</td>\n",
       "      <td>Baby Einstein: Neighborhood Animals</td>\n",
       "      <td>Marilyn Singer;Julie Aigner-Clark</td>\n",
       "      <td>Juvenile Fiction</td>\n",
       "      <td>http://books.google.com/books/content?id=X9a4P...</td>\n",
       "      <td>Children will discover the exciting world of t...</td>\n",
       "      <td>2001.0</td>\n",
       "      <td>3.89</td>\n",
       "      <td>16.0</td>\n",
       "      <td>180.0</td>\n",
       "      <td>Baby Einstein: Neighborhood Animals</td>\n",
       "      <td>9780786808069: Children will discover the exci...</td>\n",
       "    </tr>\n",
       "    <tr>\n",
       "      <th>3749</th>\n",
       "      <td>9780786808380</td>\n",
       "      <td>0786808381</td>\n",
       "      <td>Baby Einstein: Babies</td>\n",
       "      <td>Julie Aigner-Clark</td>\n",
       "      <td>Juvenile Fiction</td>\n",
       "      <td>http://books.google.com/books/content?id=jv4NA...</td>\n",
       "      <td>Introduce your babies to birds, cats, dogs, an...</td>\n",
       "      <td>2002.0</td>\n",
       "      <td>4.03</td>\n",
       "      <td>20.0</td>\n",
       "      <td>29.0</td>\n",
       "      <td>Baby Einstein: Babies</td>\n",
       "      <td>9780786808380: Introduce your babies to birds,...</td>\n",
       "    </tr>\n",
       "    <tr>\n",
       "      <th>3750</th>\n",
       "      <td>9780786808397</td>\n",
       "      <td>078680839X</td>\n",
       "      <td>Baby Einstein: Dogs</td>\n",
       "      <td>Julie Aigner-Clark</td>\n",
       "      <td>Juvenile Fiction</td>\n",
       "      <td>http://books.google.com/books/content?id=qut8t...</td>\n",
       "      <td>Introduce your baby to birds, cats, dogs, and ...</td>\n",
       "      <td>2002.0</td>\n",
       "      <td>3.81</td>\n",
       "      <td>20.0</td>\n",
       "      <td>26.0</td>\n",
       "      <td>Baby Einstein: Dogs</td>\n",
       "      <td>9780786808397: Introduce your baby to birds, c...</td>\n",
       "    </tr>\n",
       "  </tbody>\n",
       "</table>\n",
       "</div>"
      ],
      "text/plain": [
       "             isbn13      isbn10                                title  \\\n",
       "324   9780060959036  0060959037                      Prodigal Summer   \n",
       "1642  9780374522599  0374522596                The Control of Nature   \n",
       "3747  9780786808069  0786808063  Baby Einstein: Neighborhood Animals   \n",
       "3749  9780786808380  0786808381                Baby Einstein: Babies   \n",
       "3750  9780786808397  078680839X                  Baby Einstein: Dogs   \n",
       "\n",
       "                                authors        categories  \\\n",
       "324                  Barbara Kingsolver           Fiction   \n",
       "1642                        John McPhee            Nature   \n",
       "3747  Marilyn Singer;Julie Aigner-Clark  Juvenile Fiction   \n",
       "3749                 Julie Aigner-Clark  Juvenile Fiction   \n",
       "3750                 Julie Aigner-Clark  Juvenile Fiction   \n",
       "\n",
       "                                              thumbnail  \\\n",
       "324   http://books.google.com/books/content?id=06IwG...   \n",
       "1642  http://books.google.com/books/content?id=p1qKQ...   \n",
       "3747  http://books.google.com/books/content?id=X9a4P...   \n",
       "3749  http://books.google.com/books/content?id=jv4NA...   \n",
       "3750  http://books.google.com/books/content?id=qut8t...   \n",
       "\n",
       "                                            description  published_year  \\\n",
       "324   Barbara Kingsolver's fifth novel is a hymn to ...          2001.0   \n",
       "1642  The Control of Nature is John McPhee's bestsel...          1990.0   \n",
       "3747  Children will discover the exciting world of t...          2001.0   \n",
       "3749  Introduce your babies to birds, cats, dogs, an...          2002.0   \n",
       "3750  Introduce your baby to birds, cats, dogs, and ...          2002.0   \n",
       "\n",
       "      average_rating  num_pages  ratings_count  \\\n",
       "324             4.00      444.0        85440.0   \n",
       "1642            4.24      288.0         3365.0   \n",
       "3747            3.89       16.0          180.0   \n",
       "3749            4.03       20.0           29.0   \n",
       "3750            3.81       20.0           26.0   \n",
       "\n",
       "                       title_and_subtitle  \\\n",
       "324              Prodigal Summer: A Novel   \n",
       "1642                The Control of Nature   \n",
       "3747  Baby Einstein: Neighborhood Animals   \n",
       "3749                Baby Einstein: Babies   \n",
       "3750                  Baby Einstein: Dogs   \n",
       "\n",
       "                                     tagged_description  \n",
       "324   9780060959036: Barbara Kingsolver's fifth nove...  \n",
       "1642  9780374522599: The Control of Nature is John M...  \n",
       "3747  9780786808069: Children will discover the exci...  \n",
       "3749  9780786808380: Introduce your babies to birds,...  \n",
       "3750  9780786808397: Introduce your baby to birds, c...  "
      ]
     },
     "execution_count": 11,
     "metadata": {},
     "output_type": "execute_result"
    }
   ],
   "source": [
    "%%time\n",
    "query = \"A book for teaching kids about nature\"\n",
    "docs = db_books.similarity_search(query, k=5)\n",
    "ids = [int(doc.id) for doc in docs]\n",
    "books.query(\"isbn13.isin(@ids)\")"
   ]
  },
  {
   "cell_type": "markdown",
   "id": "f9620159-3f03-4743-87a2-f01b411c821c",
   "metadata": {},
   "source": [
    "# Zero-shot categorization"
   ]
  },
  {
   "cell_type": "code",
   "execution_count": 12,
   "id": "3f39bed6-4157-4840-9e7f-826644d4d2c8",
   "metadata": {},
   "outputs": [
    {
     "data": {
      "text/plain": [
       "categories           0.005773\n",
       "simple_categories    0.279777\n",
       "dtype: float64"
      ]
     },
     "execution_count": 12,
     "metadata": {},
     "output_type": "execute_result"
    }
   ],
   "source": [
    "# Mapping of top-12 categories\n",
    "category_mapping = {\n",
    "    'Fiction' : \"Fiction\",\n",
    "    'Juvenile Fiction': \"Children's Fiction\",\n",
    "    'Biography & Autobiography': \"Nonfiction\",\n",
    "    'History': \"Nonfiction\",\n",
    "    'Literary Criticism': \"Nonfiction\",\n",
    "    'Philosophy': \"Nonfiction\",\n",
    "    'Religion': \"Nonfiction\",\n",
    "    'Comics & Graphic Novels': \"Fiction\",\n",
    "    'Drama': \"Fiction\",\n",
    "    'Juvenile Nonfiction': \"Children's Nonfiction\",\n",
    "    'Science': \"Nonfiction\",\n",
    "    'Poetry': \"Fiction\"\n",
    "}\n",
    "\n",
    "books[\"simple_categories\"] = books[\"categories\"].map(category_mapping)\n",
    "\n",
    "#Proportions of null values in category fields\n",
    "books[['categories', 'simple_categories']].isna().mean()"
   ]
  },
  {
   "cell_type": "code",
   "execution_count": 13,
   "id": "c060e449-b235-4cad-b110-c52569f9c68e",
   "metadata": {},
   "outputs": [
    {
     "name": "stderr",
     "output_type": "stream",
     "text": [
      "/home/rhernand/.local/lib/python3.9/site-packages/huggingface_hub/file_download.py:945: FutureWarning: `resume_download` is deprecated and will be removed in version 1.0.0. Downloads always resume when possible. If you want to force a new download, use `force_download=True`.\n",
      "  warnings.warn(\n",
      "/home/rhernand/.local/lib/python3.9/site-packages/transformers/utils/generic.py:309: FutureWarning: `torch.utils._pytree._register_pytree_node` is deprecated. Please use `torch.utils._pytree.register_pytree_node` instead.\n",
      "  _torch_pytree._register_pytree_node(\n"
     ]
    }
   ],
   "source": [
    "fiction_categories = ['Fiction', 'Nonfiction']\n",
    "\n",
    "pipe = pipeline(\"zero-shot-classification\",\n",
    "                model=\"facebook/bart-large-mnli\")"
   ]
  },
  {
   "cell_type": "code",
   "execution_count": 14,
   "id": "e9f65fdc-8950-4114-9716-f2ce3b09fdf8",
   "metadata": {},
   "outputs": [
    {
     "data": {
      "text/plain": [
       "{'sequence': 'In an absorbing narrative about personalities and social history, Menand discusses the Metaphysical Club, an informal group that met in Cambridge, Massachusetts, in 1872, to talk about ideas. Members included Oliver Wendell Holmes, Jr., William James, and Charles Sanders Peirce. 21 photos.',\n",
       " 'labels': ['Nonfiction', 'Fiction'],\n",
       " 'scores': [0.8759342432022095, 0.12406571954488754]}"
      ]
     },
     "execution_count": 14,
     "metadata": {},
     "output_type": "execute_result"
    }
   ],
   "source": [
    "sequence = books['description'].iloc[50]\n",
    "\n",
    "pipe(sequence, fiction_categories)"
   ]
  },
  {
   "cell_type": "code",
   "execution_count": 15,
   "id": "d0ed0fbf-0083-474d-8780-052c12d2336b",
   "metadata": {},
   "outputs": [],
   "source": [
    "def generate_predictions(sequence: str, categories: list[str]) -> str:\n",
    "    predictions = pipe(sequence, categories)\n",
    "    max_index = np.argmax(predictions[\"scores\"])\n",
    "    max_label = predictions[\"labels\"][max_index]\n",
    "    return max_label\n",
    "\n",
    "f = lambda sequence: generate_predictions(sequence, fiction_categories)"
   ]
  },
  {
   "cell_type": "markdown",
   "id": "37d1d503-8431-4cb7-bc75-20f94421ead2",
   "metadata": {},
   "source": [
    "Let us now predict the category for the missing values:"
   ]
  },
  {
   "cell_type": "code",
   "execution_count": 16,
   "id": "f381fb18-9555-43ac-94cf-2283bf807b6d",
   "metadata": {},
   "outputs": [
    {
     "name": "stderr",
     "output_type": "stream",
     "text": [
      "100%|██████████████████████████████████████████████████████████████████████████| 5197/5197 [49:35<00:00,  1.75it/s]\n"
     ]
    }
   ],
   "source": [
    "pred_categories = books[\"description\"].progress_apply(f)"
   ]
  },
  {
   "cell_type": "code",
   "execution_count": 17,
   "id": "094a45b4-5c45-4b98-8ce5-d7c343a6ef0c",
   "metadata": {},
   "outputs": [
    {
     "data": {
      "text/plain": [
       "description\n",
       "Nonfiction    2816\n",
       "Fiction       2381\n",
       "Name: count, dtype: int64"
      ]
     },
     "execution_count": 17,
     "metadata": {},
     "output_type": "execute_result"
    }
   ],
   "source": [
    "pred_categories.value_counts()"
   ]
  },
  {
   "cell_type": "code",
   "execution_count": 18,
   "id": "e46cbe62-db79-4401-ab61-a7931b113699",
   "metadata": {},
   "outputs": [
    {
     "data": {
      "text/plain": [
       "0.005772561092938233"
      ]
     },
     "execution_count": 18,
     "metadata": {},
     "output_type": "execute_result"
    }
   ],
   "source": [
    "books['categories'].isna().mean()"
   ]
  },
  {
   "cell_type": "code",
   "execution_count": 19,
   "id": "d4c04353-32f0-4293-8765-4b0ecb48f00b",
   "metadata": {},
   "outputs": [],
   "source": [
    "books['predicted_categories'] = pred_categories"
   ]
  },
  {
   "cell_type": "code",
   "execution_count": 20,
   "id": "bafb8172-4a96-4949-b5a0-98cf88941750",
   "metadata": {},
   "outputs": [
    {
     "name": "stdout",
     "output_type": "stream",
     "text": [
      "Category prediction accuracy for Fiction: 67.89%\n"
     ]
    }
   ],
   "source": [
    "cat = \"Fiction\"\n",
    "acc = books.query(\"simple_categories == @cat\").eval(\"simple_categories == predicted_categories\").mean()\n",
    "print(f\"Category prediction accuracy for {cat}: {acc:.2%}\")"
   ]
  },
  {
   "cell_type": "code",
   "execution_count": 21,
   "id": "d530f8fa-1b99-4474-8de3-10f20faf4dda",
   "metadata": {},
   "outputs": [
    {
     "name": "stdout",
     "output_type": "stream",
     "text": [
      "Category prediction accuracy for Nonfiction: 87.34%\n"
     ]
    }
   ],
   "source": [
    "cat = \"Nonfiction\"\n",
    "acc = books.query(\"simple_categories == @cat\").eval(\"simple_categories == predicted_categories\").mean()\n",
    "print(f\"Category prediction accuracy for {cat}: {acc:.2%}\")"
   ]
  },
  {
   "cell_type": "code",
   "execution_count": 22,
   "id": "fd1c3b02-ef71-4cfb-8a28-46c2b8922d16",
   "metadata": {},
   "outputs": [],
   "source": [
    "books.to_csv('../data/books_pred_categories.csv',index=False)"
   ]
  },
  {
   "cell_type": "markdown",
   "id": "629845a0-fc3d-4bde-b4a8-bc926653d8f6",
   "metadata": {},
   "source": [
    "# Sentiment Analysis"
   ]
  },
  {
   "cell_type": "markdown",
   "id": "52265d26-a0fe-4a0f-8a05-ff9fb700ce07",
   "metadata": {},
   "source": [
    "The goal is to classify the dominant emotion in the book among 7 categories: anger, disgust, fear, joy, neutral, sadness, and surprise. Instead of using zero-shot classification, we will use a fine-tuned model on this task."
   ]
  },
  {
   "cell_type": "code",
   "execution_count": 23,
   "id": "2f643401-6652-4850-a9f0-b88535d76024",
   "metadata": {},
   "outputs": [
    {
     "name": "stderr",
     "output_type": "stream",
     "text": [
      "/home/rhernand/.local/lib/python3.9/site-packages/huggingface_hub/file_download.py:945: FutureWarning: `resume_download` is deprecated and will be removed in version 1.0.0. Downloads always resume when possible. If you want to force a new download, use `force_download=True`.\n",
      "  warnings.warn(\n"
     ]
    },
    {
     "name": "stdout",
     "output_type": "stream",
     "text": [
      "CPU times: user 2.32 s, sys: 516 ms, total: 2.84 s\n",
      "Wall time: 920 ms\n"
     ]
    },
    {
     "data": {
      "text/plain": [
       "[[{'label': 'joy', 'score': 0.9771687984466553},\n",
       "  {'label': 'surprise', 'score': 0.008528676815330982},\n",
       "  {'label': 'neutral', 'score': 0.005764594301581383},\n",
       "  {'label': 'anger', 'score': 0.004419781267642975},\n",
       "  {'label': 'sadness', 'score': 0.0020923952106386423},\n",
       "  {'label': 'disgust', 'score': 0.001611993182450533},\n",
       "  {'label': 'fear', 'score': 0.0004138521908316761}]]"
      ]
     },
     "execution_count": 23,
     "metadata": {},
     "output_type": "execute_result"
    }
   ],
   "source": [
    "%%time\n",
    "\n",
    "from transformers import pipeline\n",
    "classifier = pipeline(\"text-classification\",\n",
    "                      model=\"j-hartmann/emotion-english-distilroberta-base\",\n",
    "                      top_k=None)\n",
    "classifier(\"I love this!\")"
   ]
  },
  {
   "cell_type": "code",
   "execution_count": 24,
   "id": "41cc8b1f-3528-4533-b1b0-d5d62a8f5301",
   "metadata": {},
   "outputs": [
    {
     "name": "stdout",
     "output_type": "stream",
     "text": [
      "A NOVEL THAT READERS and critics have been eagerly anticipating for over a decade, Gilead is an astonishingly imagined story of remarkable lives. John Ames is a preacher, the son of a preacher and the grandson (both maternal and paternal) of preachers. It’s 1956 in Gilead, Iowa, towards the end of the Reverend Ames’s life, and he is absorbed in recording his family’s story, a legacy for the young son he will never see grow up. Haunted by his grandfather’s presence, John tells of the rift between his grandfather and his father: the elder, an angry visionary who fought for the abolitionist cause, and his son, an ardent pacifist. He is troubled, too, by his prodigal namesake, Jack (John Ames) Boughton, his best friend’s lost son who returns to Gilead searching for forgiveness and redemption. Told in John Ames’s joyous, rambling voice that finds beauty, humour and truth in the smallest of life’s details, Gilead is a song of celebration and acceptance of the best and the worst the world has to offer. At its heart is a tale of the sacred bonds between fathers and sons, pitch-perfect in style and story, set to dazzle critics and readers alike.\n"
     ]
    },
    {
     "data": {
      "text/plain": [
       "[[{'label': 'fear', 'score': 0.654840886592865},\n",
       "  {'label': 'neutral', 'score': 0.1698521077632904},\n",
       "  {'label': 'sadness', 'score': 0.11640918999910355},\n",
       "  {'label': 'surprise', 'score': 0.020700626075267792},\n",
       "  {'label': 'disgust', 'score': 0.019100768491625786},\n",
       "  {'label': 'joy', 'score': 0.015161294490098953},\n",
       "  {'label': 'anger', 'score': 0.003935155458748341}]]"
      ]
     },
     "execution_count": 24,
     "metadata": {},
     "output_type": "execute_result"
    }
   ],
   "source": [
    "desc = books['description'][0]\n",
    "print(desc)\n",
    "classifier(desc)"
   ]
  },
  {
   "cell_type": "markdown",
   "id": "c222b380-b261-4426-aa65-0478225b6121",
   "metadata": {},
   "source": [
    "Descriptions have a mix of different feelinds. Let's divide the description into different sentences and pass them to the classifier:"
   ]
  },
  {
   "cell_type": "code",
   "execution_count": 25,
   "id": "00772829-00d5-4ce7-aa1b-3f0d3ed6da30",
   "metadata": {
    "scrolled": true
   },
   "outputs": [
    {
     "name": "stdout",
     "output_type": "stream",
     "text": [
      "A NOVEL THAT READERS and critics have been eagerly anticipating for over a decade, Gilead is an astonishingly imagined story of remarkable lives\n"
     ]
    },
    {
     "data": {
      "text/plain": [
       "[{'label': 'surprise', 'score': 0.7296024560928345},\n",
       " {'label': 'neutral', 'score': 0.14038565754890442},\n",
       " {'label': 'fear', 'score': 0.06816236674785614},\n",
       " {'label': 'joy', 'score': 0.047942519187927246},\n",
       " {'label': 'anger', 'score': 0.009156353771686554},\n",
       " {'label': 'disgust', 'score': 0.0026284779887646437},\n",
       " {'label': 'sadness', 'score': 0.0021221619099378586}]"
      ]
     },
     "metadata": {},
     "output_type": "display_data"
    },
    {
     "name": "stdout",
     "output_type": "stream",
     "text": [
      "\n",
      "John Ames is a preacher, the son of a preacher and the grandson (both maternal and paternal) of preachers\n"
     ]
    },
    {
     "data": {
      "text/plain": [
       "[{'label': 'neutral', 'score': 0.4662502110004425},\n",
       " {'label': 'disgust', 'score': 0.33823898434638977},\n",
       " {'label': 'joy', 'score': 0.08201287686824799},\n",
       " {'label': 'sadness', 'score': 0.06111671030521393},\n",
       " {'label': 'anger', 'score': 0.029641302302479744},\n",
       " {'label': 'surprise', 'score': 0.017968814820051193},\n",
       " {'label': 'fear', 'score': 0.004771149251610041}]"
      ]
     },
     "metadata": {},
     "output_type": "display_data"
    },
    {
     "name": "stdout",
     "output_type": "stream",
     "text": [
      "\n",
      "It’s 1956 in Gilead, Iowa, towards the end of the Reverend Ames’s life, and he is absorbed in recording his family’s story, a legacy for the young son he will never see grow up\n"
     ]
    },
    {
     "data": {
      "text/plain": [
       "[{'label': 'neutral', 'score': 0.6978455781936646},\n",
       " {'label': 'sadness', 'score': 0.201043039560318},\n",
       " {'label': 'disgust', 'score': 0.03659290447831154},\n",
       " {'label': 'surprise', 'score': 0.029497869312763214},\n",
       " {'label': 'joy', 'score': 0.012942732311785221},\n",
       " {'label': 'fear', 'score': 0.012581037357449532},\n",
       " {'label': 'anger', 'score': 0.009496787562966347}]"
      ]
     },
     "metadata": {},
     "output_type": "display_data"
    },
    {
     "name": "stdout",
     "output_type": "stream",
     "text": [
      "\n",
      "Haunted by his grandfather’s presence, John tells of the rift between his grandfather and his father: the elder, an angry visionary who fought for the abolitionist cause, and his son, an ardent pacifist\n"
     ]
    },
    {
     "data": {
      "text/plain": [
       "[{'label': 'fear', 'score': 0.9839727878570557},\n",
       " {'label': 'neutral', 'score': 0.004363983869552612},\n",
       " {'label': 'sadness', 'score': 0.004239339847117662},\n",
       " {'label': 'anger', 'score': 0.0027069870848208666},\n",
       " {'label': 'surprise', 'score': 0.002331699011847377},\n",
       " {'label': 'disgust', 'score': 0.001794762327335775},\n",
       " {'label': 'joy', 'score': 0.0005904841236770153}]"
      ]
     },
     "metadata": {},
     "output_type": "display_data"
    },
    {
     "name": "stdout",
     "output_type": "stream",
     "text": [
      "\n",
      "He is troubled, too, by his prodigal namesake, Jack (John Ames) Boughton, his best friend’s lost son who returns to Gilead searching for forgiveness and redemption\n"
     ]
    },
    {
     "data": {
      "text/plain": [
       "[{'label': 'sadness', 'score': 0.9560651183128357},\n",
       " {'label': 'neutral', 'score': 0.021593980491161346},\n",
       " {'label': 'disgust', 'score': 0.009161856956779957},\n",
       " {'label': 'fear', 'score': 0.006611268036067486},\n",
       " {'label': 'surprise', 'score': 0.002416071016341448},\n",
       " {'label': 'anger', 'score': 0.0021669946145266294},\n",
       " {'label': 'joy', 'score': 0.0019846975337713957}]"
      ]
     },
     "metadata": {},
     "output_type": "display_data"
    },
    {
     "name": "stdout",
     "output_type": "stream",
     "text": [
      "\n",
      "Told in John Ames’s joyous, rambling voice that finds beauty, humour and truth in the smallest of life’s details, Gilead is a song of celebration and acceptance of the best and the worst the world has to offer\n"
     ]
    },
    {
     "data": {
      "text/plain": [
       "[{'label': 'joy', 'score': 0.9490272998809814},\n",
       " {'label': 'disgust', 'score': 0.02581697329878807},\n",
       " {'label': 'neutral', 'score': 0.014153186231851578},\n",
       " {'label': 'sadness', 'score': 0.005034740082919598},\n",
       " {'label': 'anger', 'score': 0.0040159691125154495},\n",
       " {'label': 'surprise', 'score': 0.0014610494254156947},\n",
       " {'label': 'fear', 'score': 0.0004908551345579326}]"
      ]
     },
     "metadata": {},
     "output_type": "display_data"
    },
    {
     "name": "stdout",
     "output_type": "stream",
     "text": [
      "\n",
      "At its heart is a tale of the sacred bonds between fathers and sons, pitch-perfect in style and story, set to dazzle critics and readers alike\n"
     ]
    },
    {
     "data": {
      "text/plain": [
       "[{'label': 'joy', 'score': 0.670195460319519},\n",
       " {'label': 'neutral', 'score': 0.24651286005973816},\n",
       " {'label': 'surprise', 'score': 0.05786948651075363},\n",
       " {'label': 'sadness', 'score': 0.009629090316593647},\n",
       " {'label': 'disgust', 'score': 0.0076239705085754395},\n",
       " {'label': 'anger', 'score': 0.004351059906184673},\n",
       " {'label': 'fear', 'score': 0.0038179662078619003}]"
      ]
     },
     "metadata": {},
     "output_type": "display_data"
    },
    {
     "name": "stdout",
     "output_type": "stream",
     "text": [
      "\n"
     ]
    }
   ],
   "source": [
    "sentences = [sentence.strip() for sentence in books['description'][0].split(\".\") if len(sentence.strip())>0]\n",
    "predictions = classifier(sentences)\n",
    "\n",
    "for sentence, pred in zip(sentences, predictions):\n",
    "    print(sentence)\n",
    "    display(pred)\n",
    "    print('')"
   ]
  },
  {
   "cell_type": "markdown",
   "id": "757d4bcf-5d3f-46fb-8c63-be316c26e52a",
   "metadata": {},
   "source": [
    "For each book, let's have a separate column, one for each sentiment class. Let's then take the highest probability from accross the whole description for that particular sentiment."
   ]
  },
  {
   "cell_type": "code",
   "execution_count": 26,
   "id": "f36f8ce8-43f2-4d7b-92a0-f0bd540dab20",
   "metadata": {},
   "outputs": [
    {
     "data": {
      "text/plain": [
       "emotion\n",
       "anger       0.029641\n",
       "disgust     0.338239\n",
       "fear        0.983973\n",
       "joy         0.949027\n",
       "neutral     0.697846\n",
       "sadness     0.956065\n",
       "surprise    0.729602\n",
       "Name: score, dtype: float64"
      ]
     },
     "execution_count": 26,
     "metadata": {},
     "output_type": "execute_result"
    }
   ],
   "source": [
    "def calculate_max_emotion_scores(predictions):\n",
    "    all_scores = [(d['label'], d['score']) for sublist in predictions for d in sublist]\n",
    "    result = pd.DataFrame(all_scores, columns=['emotion','score']).groupby(\"emotion\").max()['score']\n",
    "    return result\n",
    "\n",
    "calculate_max_emotion_scores(predictions)"
   ]
  },
  {
   "cell_type": "code",
   "execution_count": 27,
   "id": "7389159c-d9ba-4a75-9eec-9c4963ba6f2c",
   "metadata": {},
   "outputs": [
    {
     "name": "stdout",
     "output_type": "stream",
     "text": [
      "A new 'Christie for Christmas' -- a full-length novel adapted from her acclaimed play by Charles Osborne Following BLACK COFFEE and THE UNEXPECTED GUEST comes the final Agatha Christie play novelisation, bringing her superb storytelling to a new legion of fans. Clarissa, the wife of a Foreign Office diplomat, is given to daydreaming. 'Supposing I were to come down one morning and find a dead body in the library, what should I do?' she muses. Clarissa has her chance to find out when she discovers a body in the drawing-room of her house in Kent. Desperate to dispose of the body before her husband comes home with an important foreign politician, Clarissa persuades her three house guests to become accessories and accomplices. It seems that the murdered man was not unknown to certain members of the house party (but which ones?), and the search begins for the murderer and the motive, while at the same time trying to persuade a police inspector that there has been no murder at all... SPIDER'S WEB was written in 1954 specifically for Margaret Lockwood and opened first at the Theatre Royal Nottingham before moving to the Savoy Theatre in London on 14 December 1954. With THE MOUSETRAP and WI\n"
     ]
    },
    {
     "data": {
      "text/plain": [
       "emotion\n",
       "anger       0.594469\n",
       "disgust     0.461992\n",
       "fear        0.935215\n",
       "joy         0.704422\n",
       "neutral     0.891110\n",
       "sadness     0.051413\n",
       "surprise    0.212222\n",
       "Name: score, dtype: float64"
      ]
     },
     "execution_count": 27,
     "metadata": {},
     "output_type": "execute_result"
    }
   ],
   "source": [
    "desc = books['description'][1]\n",
    "print(desc)\n",
    "\n",
    "sentences = [s for sentence in desc.split(\".\") if len(s := sentence.strip())>0]\n",
    "predictions = classifier(sentences)\n",
    "calculate_max_emotion_scores(predictions)"
   ]
  },
  {
   "cell_type": "code",
   "execution_count": 28,
   "id": "01bcb7c8-d6ac-41b5-9e2e-029bdd2b4bde",
   "metadata": {},
   "outputs": [],
   "source": [
    "def compute_emotion_scores(desc):\n",
    "    sentences = [s for sentence in desc.split(\".\") if len(s := sentence.strip())>0]\n",
    "    predictions = classifier(sentences)\n",
    "    scores = calculate_max_emotion_scores(predictions)\n",
    "\n",
    "    return scores"
   ]
  },
  {
   "cell_type": "code",
   "execution_count": 29,
   "id": "6727572e-321e-4f87-955f-7d9b919f320f",
   "metadata": {},
   "outputs": [
    {
     "name": "stderr",
     "output_type": "stream",
     "text": [
      "100%|██████████████████████████████████████████████████████████████████████████| 5197/5197 [05:38<00:00, 15.35it/s]\n"
     ]
    }
   ],
   "source": [
    "emotion_scores = books.set_index(\"isbn13\")['description'].progress_apply(compute_emotion_scores).reset_index()\n",
    "books_with_sentiment_analysis = books.merge(emotion_scores, on='isbn13', validate='1:1')"
   ]
  },
  {
   "cell_type": "code",
   "execution_count": 30,
   "id": "e44c1042-7961-4688-ba3a-0ede528ce6fd",
   "metadata": {},
   "outputs": [],
   "source": [
    "books_with_sentiment_analysis.to_csv('../data/books_for_dashboard.csv',index=False)"
   ]
  }
 ],
 "metadata": {
  "kernelspec": {
   "display_name": "Python 3 (ipykernel)",
   "language": "python",
   "name": "python3"
  },
  "language_info": {
   "codemirror_mode": {
    "name": "ipython",
    "version": 3
   },
   "file_extension": ".py",
   "mimetype": "text/x-python",
   "name": "python",
   "nbconvert_exporter": "python",
   "pygments_lexer": "ipython3",
   "version": "3.9.17"
  }
 },
 "nbformat": 4,
 "nbformat_minor": 5
}
